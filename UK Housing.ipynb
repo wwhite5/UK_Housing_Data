{
 "cells": [
  {
   "cell_type": "code",
   "execution_count": 1,
   "id": "95965ebc",
   "metadata": {},
   "outputs": [],
   "source": [
    "import findspark\n",
    "findspark.init()"
   ]
  },
  {
   "cell_type": "code",
   "execution_count": 2,
   "id": "81f24cf1",
   "metadata": {},
   "outputs": [],
   "source": [
    "import pyspark #only run after findspark\n",
    "from pyspark.sql import SparkSession\n",
    "spark = SparkSession.builder.getOrCreate()"
   ]
  },
  {
   "cell_type": "code",
   "execution_count": 3,
   "id": "985d4070",
   "metadata": {},
   "outputs": [
    {
     "name": "stdout",
     "output_type": "stream",
     "text": [
      "<bound method DataFrame.printSchema of DataFrame[Transaction unique identifier: string, Price: int, Date of Transfer: string, Property Type: string, Old/New: string, Duration: string, Town/City: string, District: string, County: string, PPDCategory Type: string, Record Status - monthly file only: string]>\n",
      "Count: 22489348\n"
     ]
    }
   ],
   "source": [
    "df = spark.read.csv('price_paid_records.csv',header=True,sep= \",\",inferSchema=True)\n",
    "\n",
    "print(df.printSchema)\n",
    "#Property type D = Detached, S = Semi-Detached, T = Terraced, F = Flats/Maisonettes, O = Other\n",
    "#Duration relates to the tenure: F = Freehold, L= Leasehold\n",
    "#PPD Category Type Indicates the type of Price Paid transaction, only differentiated since 2013\n",
    "#Record Status - monthly file only indicates Additions, Changes and Deletions to the records.\n",
    "# Old/New: Y = a newly built property, N = an established residential building\n",
    "\n",
    "print('Count:', df.count())"
   ]
  },
  {
   "cell_type": "code",
   "execution_count": 4,
   "id": "2c59a615",
   "metadata": {},
   "outputs": [
    {
     "data": {
      "text/plain": [
       "Row(Transaction unique identifier='{81B82214-7FBC-4129-9F6B-4956B4A663AD}', Price=25000, Date of Transfer='1995-08-18 00:00', Property Type='T', Old/New='N', Duration='F', Town/City='OLDHAM', District='OLDHAM', County='GREATER MANCHESTER', PPDCategory Type='A', Record Status - monthly file only='A')"
      ]
     },
     "execution_count": 4,
     "metadata": {},
     "output_type": "execute_result"
    }
   ],
   "source": [
    "df.head()"
   ]
  },
  {
   "cell_type": "code",
   "execution_count": 5,
   "id": "33139cb1",
   "metadata": {},
   "outputs": [],
   "source": [
    "from pyspark.sql.functions import *\n",
    "\n",
    "# Shows null values in each column\n",
    "#df.select([count(when(isnan(c) | col(c).isNull(), c)).alias(c) for c in df.columns]\n",
    "   #).show()\n",
    "\n",
    "#drops all null values, not needed for this dataset\n",
    "#df = df.na.drop()"
   ]
  },
  {
   "cell_type": "code",
   "execution_count": 6,
   "id": "35d254db",
   "metadata": {},
   "outputs": [
    {
     "name": "stdout",
     "output_type": "stream",
     "text": [
      "+----------------+--------+\n",
      "|PPDCategory Type|   count|\n",
      "+----------------+--------+\n",
      "|               B|  348175|\n",
      "|               A|22141173|\n",
      "+----------------+--------+\n",
      "\n"
     ]
    }
   ],
   "source": [
    "df.groupBy('PPDCategory Type').count().show()\n",
    "#PPD category type B only makes up ~1% of data, and is not very informative, so it will be dropped\n",
    "\n",
    "df = df.drop(col('PPDCategory Type'))"
   ]
  },
  {
   "cell_type": "code",
   "execution_count": 7,
   "id": "e9332492",
   "metadata": {},
   "outputs": [
    {
     "name": "stdout",
     "output_type": "stream",
     "text": [
      "+---------------------------------+--------+\n",
      "|Record Status - monthly file only|   count|\n",
      "+---------------------------------+--------+\n",
      "|                                A|22489348|\n",
      "+---------------------------------+--------+\n",
      "\n"
     ]
    }
   ],
   "source": [
    "df.groupBy('Record Status - monthly file only').count().show()\n",
    "#Only additions are found in this dataset\n",
    "\n",
    "df = df.drop(col('Record Status - monthly file only'))"
   ]
  },
  {
   "cell_type": "code",
   "execution_count": 8,
   "id": "48f498e5",
   "metadata": {},
   "outputs": [
    {
     "name": "stdout",
     "output_type": "stream",
     "text": [
      "Count: 22489348\n"
     ]
    },
    {
     "data": {
      "text/plain": [
       "<bound method DataFrame.printSchema of DataFrame[Price: int, Date of Transfer: string, Property Type: string, Old/New: string, Duration: string, Town/City: string, District: string, County: string]>"
      ]
     },
     "execution_count": 8,
     "metadata": {},
     "output_type": "execute_result"
    }
   ],
   "source": [
    "# Will now drop duplicates, can check new count to see if any were found, then unique identifier can be removed\n",
    "df = df.dropDuplicates()\n",
    "\n",
    "print('Count:', df.count())\n",
    "\n",
    "df = df.drop(col('Transaction unique identifier'))\n",
    "df.printSchema"
   ]
  },
  {
   "cell_type": "code",
   "execution_count": 9,
   "id": "76d29977",
   "metadata": {},
   "outputs": [
    {
     "name": "stdout",
     "output_type": "stream",
     "text": [
      "Row(Price=99000, Date of Transfer='1995-10-16 00:00', Property Type='D', Old/New='N', Duration='F', Town/City='MARLBOROUGH', District='KENNET', County='WILTSHIRE', TSDate of Transfer=datetime.datetime(1995, 10, 16, 0, 0))\n",
      "<bound method DataFrame.printSchema of DataFrame[Price: int, Date of Transfer: string, Property Type: string, Old/New: string, Duration: string, Town/City: string, District: string, County: string, TSDate of Transfer: timestamp]>\n"
     ]
    }
   ],
   "source": [
    "#converts the Date of Transfer column to timestamp format\n",
    "df = df.withColumn('TSDate of Transfer',to_timestamp('Date of Transfer'))\n",
    "\n",
    "print(df.head())\n",
    "print(df.printSchema)"
   ]
  },
  {
   "cell_type": "code",
   "execution_count": 10,
   "id": "9af73995",
   "metadata": {},
   "outputs": [
    {
     "data": {
      "text/plain": [
       "<bound method DataFrame.printSchema of DataFrame[Price: int, Property Type: string, Old/New: string, Duration: string, Town/City: string, District: string, County: string, TSDate of Transfer: timestamp]>"
      ]
     },
     "execution_count": 10,
     "metadata": {},
     "output_type": "execute_result"
    }
   ],
   "source": [
    "df = df.drop(col('Date of Transfer'))\n",
    "df.printSchema"
   ]
  },
  {
   "cell_type": "code",
   "execution_count": 11,
   "id": "48364d33",
   "metadata": {},
   "outputs": [
    {
     "name": "stdout",
     "output_type": "stream",
     "text": [
      "Row(Price=99000, Property Type='D', Old/New='N', Duration='F', Town/City='MARLBOROUGH', District='KENNET', County='WILTSHIRE', TSDate of Transfer=datetime.datetime(1995, 10, 1, 0, 0))\n"
     ]
    }
   ],
   "source": [
    "# Truncating the dates to the month\n",
    "df = df.withColumn('TSDate of Transfer', date_trunc('month' ,col('TSDate of Transfer')))\n",
    "print(df.head())"
   ]
  },
  {
   "cell_type": "code",
   "execution_count": 12,
   "id": "eff7be40",
   "metadata": {},
   "outputs": [],
   "source": [
    "# Converting Old/New from N,Y to 0,1\n",
    "df = df.withColumn('Old/New', when(df['Old/New']=='N', 0).otherwise(1))"
   ]
  },
  {
   "cell_type": "code",
   "execution_count": 13,
   "id": "bca98a1c",
   "metadata": {},
   "outputs": [
    {
     "name": "stdout",
     "output_type": "stream",
     "text": [
      "+-------+--------+\n",
      "|Old/New|   count|\n",
      "+-------+--------+\n",
      "|      1| 2296672|\n",
      "|      0|20192676|\n",
      "+-------+--------+\n",
      "\n"
     ]
    }
   ],
   "source": [
    "df.groupBy('Old/New').count().show()"
   ]
  },
  {
   "cell_type": "code",
   "execution_count": 14,
   "id": "eb439c61",
   "metadata": {},
   "outputs": [
    {
     "name": "stdout",
     "output_type": "stream",
     "text": [
      "+--------+--------+\n",
      "|Duration|   count|\n",
      "+--------+--------+\n",
      "|       1| 5312938|\n",
      "|       0|17176410|\n",
      "+--------+--------+\n",
      "\n"
     ]
    }
   ],
   "source": [
    "# Converting Duration from F,L to 0,1\n",
    "df = df.withColumn('Duration', when(df['Duration']=='F', 0).otherwise(1))\n",
    "\n",
    "df.groupBy('Duration').count().show()"
   ]
  },
  {
   "cell_type": "code",
   "execution_count": 15,
   "id": "c2e6c836",
   "metadata": {},
   "outputs": [],
   "source": [
    "from pyspark.ml.stat import Correlation\n",
    "from pyspark.ml.feature import VectorAssembler\n",
    "import pandas as pd\n",
    "\n",
    "# Returns pandas correlation matrix, corr_columns allows control of what variables to correlate\n",
    "\n",
    "def correlation_matrix(df, corr_columns, method='pearson'):\n",
    "    vector_col = 'features'\n",
    "    assembler = VectorAssembler(inputCols=corr_columns, outputCol=vector_col)\n",
    "    df_vector = assembler.transform(df).select(vector_col)\n",
    "    matrix = Correlation.corr(df_vector, vector_col, method)\n",
    "\n",
    "    result = matrix.collect()[0][\"pearson({})\".format(vector_col)].values\n",
    "    return pd.DataFrame(result.reshape(-1, len(corr_columns)), columns=corr_columns, index=corr_columns)"
   ]
  },
  {
   "cell_type": "code",
   "execution_count": null,
   "id": "42ed04ed",
   "metadata": {},
   "outputs": [],
   "source": [
    "# Correlation matrix for just price, old vs new, and duration. would like to include date and location info as well\n",
    "corr_columns = ['Price','Old/New','Duration']\n",
    "\n",
    "correlation_matrix(df, corr_columns)"
   ]
  },
  {
   "cell_type": "code",
   "execution_count": null,
   "id": "dff404e4",
   "metadata": {},
   "outputs": [],
   "source": []
  }
 ],
 "metadata": {
  "kernelspec": {
   "display_name": "Python 3 (ipykernel)",
   "language": "python",
   "name": "python3"
  },
  "language_info": {
   "codemirror_mode": {
    "name": "ipython",
    "version": 3
   },
   "file_extension": ".py",
   "mimetype": "text/x-python",
   "name": "python",
   "nbconvert_exporter": "python",
   "pygments_lexer": "ipython3",
   "version": "3.9.12"
  }
 },
 "nbformat": 4,
 "nbformat_minor": 5
}
